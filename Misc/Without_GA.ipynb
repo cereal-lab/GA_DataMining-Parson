{
 "cells": [
  {
   "cell_type": "code",
   "execution_count": 1,
   "id": "2d29099b",
   "metadata": {},
   "outputs": [],
   "source": [
    "from csv import reader\n",
    "import pandas as pd\n",
    "import numpy as np\n",
    "\n",
    "import random\n",
    "import sys\n",
    "\n",
    "import os\n",
    "import shutil\n",
    "\n",
    "# from sklearn.decomposition import PCA\n",
    "# from sklearn.cluster import KMeans\n",
    "\n",
    "import matplotlib.pyplot as plt\n",
    "\n",
    "import time\n",
    "\n",
    "import multiprocessing\n",
    "from functools import partial\n",
    "\n",
    "# genetic algorithm search of the one max optimization problem\n",
    "from numpy.random import randint\n",
    "# from numpy.random import rand\n",
    "\n",
    "\n",
    "import Scripts.LevenClustering as levenClustering\n",
    "import Scripts.SeqCleaning as seqCleaning\n",
    "import Scripts.GenFunction as genFunction\n",
    "import Scripts.GAFunctions as GAfunctions\n",
    "import Scripts.StatFitness as statFitness"
   ]
  },
  {
   "cell_type": "code",
   "execution_count": 2,
   "id": "3aff7780",
   "metadata": {},
   "outputs": [],
   "source": [
    "pd.set_option(\"display.max_columns\", None)\n",
    "pd.set_option(\"display.max_rows\", None)\n",
    "\n",
    "output = \"Puzzles_Output\"\n",
    "# file = ['00 Result/SelectionF15/puzzle_1.csv', '00 Result/SelectionS16/puzzle_1.csv']\n",
    "file = ['Puzzles_CSV/Puzzle_1.csv']"
   ]
  },
  {
   "cell_type": "code",
   "execution_count": 3,
   "id": "4db7bcbf",
   "metadata": {},
   "outputs": [],
   "source": [
    "import numpy as np\n",
    "outliers = []\n",
    "def detect_outliers_zscore(data):\n",
    "    thres = 3\n",
    "    mean = np.mean(data)\n",
    "    std = np.std(data)\n",
    "    # print(mean, std)\n",
    "    for i in range(len(data)):\n",
    "        z_score = (data[i]-mean)/std\n",
    "        if (np.abs(z_score) > thres):\n",
    "            outliers.append(i)\n",
    "    return outliers# Driver code"
   ]
  },
  {
   "cell_type": "code",
   "execution_count": 4,
   "id": "6c5782d4",
   "metadata": {},
   "outputs": [
    {
     "name": "stdout",
     "output_type": "stream",
     "text": [
      "Total Rows for original:  294\n",
      "Total Rows for after elimination outliers:  286\n"
     ]
    }
   ],
   "source": [
    "col_names = ['File Path', 'sequence', 'steps', 'time_spent']\n",
    "df = pd.DataFrame(columns = col_names)\n",
    "\n",
    "file_path = []\n",
    "sequence = []\n",
    "steps = []\n",
    "time_spent = []\n",
    "\n",
    "pop_cache = {}\n",
    "\n",
    "if __name__ == \"__main__\":\n",
    "\n",
    "    for f in file:\n",
    "\n",
    "        with open(f, 'r') as read_obj:\n",
    "            csv_reader = reader(read_obj)\n",
    "            header = next(csv_reader)\n",
    "\n",
    "            if header != None:\n",
    "                for row in csv_reader:\n",
    "                    file_path.append(row[0])\n",
    "                    sequence.append(row[6])\n",
    "                    steps.append(row[3])\n",
    "                    time_spent.append(row[5])\n",
    "\n",
    "    df['File Path'] = file_path\n",
    "    df['sequence'] = sequence\n",
    "    df['steps'] = steps\n",
    "    df['time_spent'] = time_spent\n",
    "\n",
    "    print(\"Total Rows for original: \", len(df.index))\n",
    "    \n",
    "\n",
    "    df['Extra_Steps'] = (df['steps'].astype(int))-16\n",
    "    sample_outliers = detect_outliers_zscore(df['Extra_Steps'])\n",
    "    update_df = df.copy()\n",
    "    update_df = df.drop(sample_outliers)\n",
    "    update_df = update_df.reset_index(drop=True)\n",
    "    \n",
    "    \n",
    "    ###new_code\n",
    "    num_R = genFunction.count_label(update_df, 'R')\n",
    "    update_df['num_R'] = num_R\n",
    "    num_T = genFunction.count_label(update_df, 'T')\n",
    "    update_df['num_T'] = num_T\n",
    "    \n",
    "    #################\n",
    "\n",
    "    \n",
    "    print(\"Total Rows for after elimination outliers: \", len(update_df.index))\n",
    "        "
   ]
  },
  {
   "cell_type": "code",
   "execution_count": 5,
   "id": "0ae3a973",
   "metadata": {},
   "outputs": [
    {
     "name": "stdout",
     "output_type": "stream",
     "text": [
      "(67058024, 0.2750080944785124, 836.5561493960745, 0.827866613460865, 0.8789264526041943, [85, 71, 58, 34])\n"
     ]
    }
   ],
   "source": [
    "job_id = \"standard\"\n",
    "n_bits = 26 # bits\n",
    "label_mask = 15 # split the R and T\n",
    "\n",
    "n_clusters = 4\n",
    "\n",
    "# Keep All\n",
    "# cleaning_encode = genFunction.convert_to_binary(2**26-1, n_bits)\n",
    "\n",
    "# Clear All\n",
    "# cleaning_encode = genFunction.convert_to_binary(0, n_bits)\n",
    "\n",
    "# Encode according to GA\n",
    "cleaning_encode = [1, 1, 1, 1, 1, 1, 1, 1, 1, 1, 0, 0, 1, 1, 1, 0, 0, 1, 0, 1, 1, 0, 1, 0, 0, 0]\n",
    "\n",
    "\n",
    "\n",
    "\n",
    "\n",
    "df_1 = update_df\n",
    "\n",
    "pop_cache = {}\n",
    "\n",
    "result = genFunction.calc_score(df_1, pop_cache, label_mask, n_clusters, cleaning_encode)\n",
    "\n",
    "print(result)\n",
    "    \n",
    "df_final = genFunction.dataset_cleaning(df_1, label_mask, cleaning_encode)\n",
    "df_final, _ = GAfunctions.fitness(df_final, n_clusters, 1)\n"
   ]
  },
  {
   "cell_type": "code",
   "execution_count": 6,
   "id": "f1b564db",
   "metadata": {},
   "outputs": [],
   "source": [
    "df = df_final.copy()\n",
    "\n",
    "df[\"Clusters\"] = df[\"Clusters\"] + 10\n",
    "\n",
    "vc_order = df.Clusters.value_counts().index.tolist()\n",
    "\n",
    "for i in range(1, len(vc_order)+1):\n",
    "    for index, row in df.iterrows():\n",
    "        if df.at[index,'Clusters'] == vc_order[i-1]:\n",
    "            df.at[index,'Clusters'] = i"
   ]
  },
  {
   "cell_type": "code",
   "execution_count": 7,
   "id": "e3d4fc21",
   "metadata": {},
   "outputs": [],
   "source": [
    "df_final = df\n",
    "\n",
    "df_final.to_csv('{}/{}_best_final_output.csv'.format(output, job_id), index=False) "
   ]
  },
  {
   "cell_type": "code",
   "execution_count": null,
   "id": "af779ba8",
   "metadata": {},
   "outputs": [],
   "source": []
  },
  {
   "cell_type": "code",
   "execution_count": null,
   "id": "fb9e4ac9",
   "metadata": {},
   "outputs": [],
   "source": []
  },
  {
   "cell_type": "code",
   "execution_count": null,
   "id": "8222624a",
   "metadata": {},
   "outputs": [],
   "source": []
  },
  {
   "cell_type": "code",
   "execution_count": null,
   "id": "01180cc0",
   "metadata": {},
   "outputs": [],
   "source": []
  },
  {
   "cell_type": "code",
   "execution_count": 8,
   "id": "cb739b2b",
   "metadata": {},
   "outputs": [],
   "source": [
    "# file = '~/Desktop/GECCO/Visualization/GA Results/3 Clusters - AIC.csv'"
   ]
  },
  {
   "cell_type": "code",
   "execution_count": 9,
   "id": "57a5e864",
   "metadata": {},
   "outputs": [],
   "source": [
    "# df = df_final"
   ]
  },
  {
   "cell_type": "code",
   "execution_count": 10,
   "id": "f5f39b1e",
   "metadata": {},
   "outputs": [],
   "source": [
    "# df.plot(kind='line',x='Generation',y='AVG_fitness',color='red')\n",
    "# plt.title(\"AIC as GA Fitness (3 Clusters)\")\n",
    "# plt.xlabel(\"Average AIC in each generation\")\n",
    "# plt.ylabel(\"AIC\")\n",
    "# plt.savefig('AIC_3_clusters.png')\n",
    "# plt.show()"
   ]
  },
  {
   "cell_type": "code",
   "execution_count": null,
   "id": "b3f90d83",
   "metadata": {},
   "outputs": [],
   "source": []
  },
  {
   "cell_type": "code",
   "execution_count": null,
   "id": "2bd15439",
   "metadata": {},
   "outputs": [],
   "source": []
  },
  {
   "cell_type": "code",
   "execution_count": null,
   "id": "6bfa9708",
   "metadata": {},
   "outputs": [],
   "source": []
  },
  {
   "cell_type": "code",
   "execution_count": null,
   "id": "44b08010",
   "metadata": {},
   "outputs": [],
   "source": []
  },
  {
   "cell_type": "code",
   "execution_count": null,
   "id": "18fd49da",
   "metadata": {},
   "outputs": [],
   "source": []
  },
  {
   "cell_type": "code",
   "execution_count": null,
   "id": "a723f7d8",
   "metadata": {},
   "outputs": [],
   "source": []
  }
 ],
 "metadata": {
  "kernelspec": {
   "display_name": "Python 3 (ipykernel)",
   "language": "python",
   "name": "python3"
  },
  "language_info": {
   "codemirror_mode": {
    "name": "ipython",
    "version": 3
   },
   "file_extension": ".py",
   "mimetype": "text/x-python",
   "name": "python",
   "nbconvert_exporter": "python",
   "pygments_lexer": "ipython3",
   "version": "3.9.8"
  }
 },
 "nbformat": 4,
 "nbformat_minor": 5
}
